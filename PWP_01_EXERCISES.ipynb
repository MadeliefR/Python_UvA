{
  "nbformat": 4,
  "nbformat_minor": 0,
  "metadata": {
    "colab": {
      "provenance": [],
      "include_colab_link": true
    },
    "kernelspec": {
      "name": "python3",
      "display_name": "Python 3"
    }
  },
  "cells": [
    {
      "cell_type": "markdown",
      "metadata": {
        "id": "view-in-github",
        "colab_type": "text"
      },
      "source": [
        "<a href=\"https://colab.research.google.com/github/MadeliefR/Python_UvA/blob/main/PWP_01_EXERCISES.ipynb\" target=\"_parent\"><img src=\"https://colab.research.google.com/assets/colab-badge.svg\" alt=\"Open In Colab\"/></a>"
      ]
    },
    {
      "cell_type": "code",
      "metadata": {
        "id": "hRlC68cyWKfW"
      },
      "source": [],
      "execution_count": null,
      "outputs": []
    },
    {
      "cell_type": "code",
      "metadata": {
        "id": "TiyNRxG4WKcG"
      },
      "source": [],
      "execution_count": null,
      "outputs": []
    },
    {
      "cell_type": "code",
      "metadata": {
        "id": "_dybMOxdWKZf"
      },
      "source": [],
      "execution_count": null,
      "outputs": []
    },
    {
      "cell_type": "code",
      "metadata": {
        "id": "vKp5cF8yWKOd"
      },
      "source": [],
      "execution_count": null,
      "outputs": []
    },
    {
      "cell_type": "markdown",
      "metadata": {
        "id": "P6jWDNvdxi24"
      },
      "source": [
        "# WEEK 1 - Exercises"
      ]
    },
    {
      "cell_type": "markdown",
      "metadata": {
        "id": "nHPSES2orI-4"
      },
      "source": [
        "# How much water do I use for shower?\n",
        "Each minute under the shower uses approximatly 8 liters of water.\n",
        "Write a program that does the following:\n",
        "\n",
        "1. The usual shower lasts 10 minutes ```duration = ...```\n",
        "1. Compute how much water is used by this shower ```water = duration +*-/...```\n",
        "1. Display to the user ```print(...)```\n",
        "\n",
        "\n",
        "---\n",
        "\n",
        "Improve your program by asking the user how long do they stay under the shower:\n",
        "1. Ask the user ```input(...)```\n",
        "1. Convert the answer into a number ```int(...)```\n",
        "1. Compute the water usage \n",
        "1. Display to the user ```print(...)```\n"
      ]
    },
    {
      "cell_type": "code",
      "metadata": {
        "id": "r3UrgmAlq09d"
      },
      "source": [],
      "execution_count": null,
      "outputs": []
    },
    {
      "cell_type": "code",
      "metadata": {
        "id": "IQX2PKLjhZIh"
      },
      "source": [],
      "execution_count": null,
      "outputs": []
    },
    {
      "cell_type": "markdown",
      "metadata": {
        "id": "jQk9rM0or5G2"
      },
      "source": [
        "# What is the NPV of my next project?\n",
        "We figure a project cash-flows like this:\n",
        "* Year 1: spend $C$ to implement\n",
        "* Year 2 until infinite: positive cash-flows of $X_0$ with a yearly growth rate $x$\n",
        "* Discount rate: $r$\n",
        "\n",
        "Based on this, we know:\n",
        "$\n",
        "\\begin{align}\n",
        "NPV=\\frac{X_0}{r-x} - C\n",
        "\\end{align}\n",
        "$\n",
        "\n",
        "Create a program that gives you the NPV of the project:\n",
        "1. Ask the user for the original spending $C$, the expected cash-flow $X_0$, the yearly growth $x$, the discount rate $r$\n",
        "2. Compute the NPV\n",
        "3. Display to the user\n",
        "\n",
        "Try it with the values:\n",
        "* `C = 100000`\n",
        "* `X0 = 20000`\n",
        "* `x = 0.02` (ie 2%)\n",
        "* `c = 0.045` (ie 4.5%)\n",
        "* The NPV is then `700000` (or `700000.0000000001`)"
      ]
    },
    {
      "cell_type": "code",
      "metadata": {
        "id": "IkFCjoB9rIuy"
      },
      "source": [],
      "execution_count": null,
      "outputs": []
    },
    {
      "cell_type": "markdown",
      "metadata": {
        "id": "-egMLkfFu390"
      },
      "source": [
        "# Mortgage Repayment\n",
        "\n",
        "The scenario is the following:\n",
        "* Loan of principal amount `P`\n",
        "* Monthly interest rate `r`\n",
        "* Number of months `n`\n",
        "\n",
        "To repay a loan of the amount `P` in `n` months at the monthly rate of `r`, you have to repay each month:\n",
        "\n",
        "$ \\textrm{M} = \\textrm{P} * \\textrm{r} * \\frac{(1+\\textrm{r})^n}{(1+\\textrm{r})^n-1} $\n",
        "\n",
        "Write the following program:\n",
        "* Ask the user for the following inputs:\n",
        " * Principal amount\n",
        " * Yearly Interest Rate (APR) as a Percentage\n",
        " * Duration in years\n",
        "* Transform these numbers into\n",
        "  * Monthly interest rate (12% yearly = 1% monthly = 0.01 rate)\n",
        "  * Number of months (5 years = 60 months)\n",
        "* Compute and display the monthly payment\n",
        "* Try it for the values:\n",
        "  * P = `200000`\n",
        "  * Yearly Interest Rate: `6.5%`\n",
        "  * Duration: `30` years\n",
        "  * Monthly Repayment: `1264.13064....` = `1264.14`"
      ]
    },
    {
      "cell_type": "code",
      "metadata": {
        "id": "M66D8To9u4Mc"
      },
      "source": [],
      "execution_count": null,
      "outputs": []
    }
  ]
}