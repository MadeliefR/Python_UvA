{
  "nbformat": 4,
  "nbformat_minor": 0,
  "metadata": {
    "colab": {
      "provenance": [],
      "include_colab_link": true
    },
    "kernelspec": {
      "name": "python3",
      "display_name": "Python 3"
    }
  },
  "cells": [
    {
      "cell_type": "markdown",
      "metadata": {
        "id": "view-in-github",
        "colab_type": "text"
      },
      "source": [
        "<a href=\"https://colab.research.google.com/github/MadeliefR/Python_UvA/blob/main/Week2.ipynb\" target=\"_parent\"><img src=\"https://colab.research.google.com/assets/colab-badge.svg\" alt=\"Open In Colab\"/></a>"
      ]
    },
    {
      "cell_type": "code",
      "source": [
        "# NPV of a project\n"
      ],
      "metadata": {
        "id": "GgoAwES5fOPN"
      },
      "execution_count": null,
      "outputs": []
    },
    {
      "cell_type": "code",
      "source": [],
      "metadata": {
        "id": "Zxcwm8wwfOMI"
      },
      "execution_count": null,
      "outputs": []
    },
    {
      "cell_type": "code",
      "source": [],
      "metadata": {
        "id": "duTFmsMcfOI5"
      },
      "execution_count": null,
      "outputs": []
    },
    {
      "cell_type": "code",
      "source": [],
      "metadata": {
        "id": "_GP5SzFHfOFp"
      },
      "execution_count": null,
      "outputs": []
    },
    {
      "cell_type": "code",
      "source": [],
      "metadata": {
        "id": "5IFsw4bzfOB9"
      },
      "execution_count": null,
      "outputs": []
    },
    {
      "cell_type": "code",
      "source": [],
      "metadata": {
        "id": "WypndHTlfN7v"
      },
      "execution_count": null,
      "outputs": []
    },
    {
      "cell_type": "code",
      "source": [],
      "metadata": {
        "id": "visaiy0qfNyV"
      },
      "execution_count": null,
      "outputs": []
    },
    {
      "cell_type": "markdown",
      "metadata": {
        "id": "Yg4o-UflZeBw"
      },
      "source": [
        "# Exercises IF "
      ]
    },
    {
      "cell_type": "markdown",
      "metadata": {
        "id": "nL5c_YbbX4_E"
      },
      "source": [
        "## Roller-coaster admission\n",
        "Roller-coaster accepts only people between 120cms and 195cms  \n",
        "Check if people are accepted"
      ]
    },
    {
      "cell_type": "code",
      "metadata": {
        "id": "eoWbL198YlXp"
      },
      "source": [
        "# Ask the size in centimeters\n",
        "height = int(input(\"Your size: \"))\n",
        "\n",
        "# Check if accepted or not\n",
        "# Display \"accepted\" or \"rejected\"\n",
        "\n",
        "if ...:\n",
        "  print(\"rejected\")\n",
        "else:\n",
        "  print(\"accepted\")"
      ],
      "execution_count": null,
      "outputs": []
    },
    {
      "cell_type": "markdown",
      "metadata": {
        "id": "UEKLWNN-KLhK"
      },
      "source": [
        "Extra: Print \"DISCOUNT\" if the person is 165cm tall."
      ]
    },
    {
      "cell_type": "code",
      "metadata": {
        "id": "lsjuz5zSKAjr"
      },
      "source": [
        "# Ask the size in centimeters\n",
        "height = int(input(\"Your size: \"))\n",
        "\n",
        "if ...:\n",
        "    print(\"accepted\")\n",
        "    if ...:\n",
        "        print(\"DISCOUNT !!\")\n",
        "    else:\n",
        "        print('No discount')\n",
        "else:\n",
        "  print(\"rejected\")\n"
      ],
      "execution_count": null,
      "outputs": []
    },
    {
      "cell_type": "markdown",
      "metadata": {
        "id": "flWVsvLcJtzI"
      },
      "source": [
        "## Should I take this project?\n",
        "(continuation of Week 1 \"What is the NPV of my next project?\")\n",
        "\n",
        "As a CFO, you have to approve projects, and you will only approve projects with a positive NPV\n",
        "\n",
        "We figure a project cash-flows like this:\n",
        "* Year 1: spend $C$ to implement\n",
        "* Year 2 until infinite: positive cash-flows of $X_0$ with a yearly growth rate $x$\n",
        "* Discount rate: $r$\n",
        "\n",
        "Based on this, we know:\n",
        "$\n",
        "\\begin{align}\n",
        "NPV=\\frac{X_0}{r-x} - C\n",
        "\\end{align}\n",
        "$\n",
        "\n",
        "1. Take the solution of the Week 1 exercise to compute the NPV, \n",
        "1. Add a verification step to check whether the input is correct:\n",
        "    1. $r$ is positive\n",
        "    1. $x$ is positive\n",
        "    1. $x$ is strictly less than $r$\n",
        "1. Add a verification step to check if it satisfies the criteria of a positive NPV, when the parameters are correct\n",
        "1. Conclude by accepting or rejecting the project\n",
        "\n",
        "\n"
      ]
    },
    {
      "cell_type": "code",
      "metadata": {
        "id": "LKEbtfO_NxaM",
        "colab": {
          "base_uri": "https://localhost:8080/"
        },
        "outputId": "fa235b56-3e88-4205-855e-9b9526619935"
      },
      "source": [
        "C = 1000000\n",
        "X0 = 50000\n",
        "x = 2 / 100\n",
        "r = 4.5 / 100\n",
        "\n",
        "NPV = (X0 / (r - x)) - C\n",
        "print(NPV)"
      ],
      "execution_count": null,
      "outputs": [
        {
          "output_type": "stream",
          "text": [
            "1000000.0000000002\n"
          ],
          "name": "stdout"
        }
      ]
    },
    {
      "cell_type": "code",
      "metadata": {
        "id": "7xDOcfKwqs1F"
      },
      "source": [
        "if parameters are ok:    # Put the test here\n",
        "    compute NPV          # copy/paste the NPV = ... line\n",
        "    if NPV positive:     # Put the test\n",
        "        accept           # Display acceptation message\n",
        "    else:\n",
        "        reject           # Display rejection message\n",
        "else:\n",
        "    reject               # Display error message for bad parameters\n"
      ],
      "execution_count": null,
      "outputs": []
    },
    {
      "cell_type": "markdown",
      "metadata": {
        "id": "jn_mUrI9kybv"
      },
      "source": [
        "# Exercises WHILE \n",
        "\n"
      ]
    },
    {
      "cell_type": "markdown",
      "metadata": {
        "id": "mJ4uEqEIYCax"
      },
      "source": [
        "## Grouping of people\n",
        "People arrive in small groups, group them by 20 or more.  \n",
        "Accumulate at least 20 of them before allowing them to go.  "
      ]
    },
    {
      "cell_type": "code",
      "metadata": {
        "id": "26Oho4TikzxW"
      },
      "source": [
        "# Initialize variables\n",
        "people = ...\n",
        "\n",
        "# Loop while\n",
        "while ...:\n",
        "  # Ask how many people just arrived\n",
        "  nb = ...\n",
        "\n",
        "  # Add to total number\n",
        "  people = ...\n",
        "\n",
        "  # Display how many people are now on hold\n",
        "  print(\"I have\", people, \"people\")\n",
        "\n",
        "\n",
        "# Rest of the program\n",
        "# Display total number of people\n",
        "print(\"You are now\", people,  \"You can go\")"
      ],
      "execution_count": null,
      "outputs": []
    },
    {
      "cell_type": "markdown",
      "metadata": {
        "id": "wsEQZ4tnKXoE"
      },
      "source": [
        "## Multiplication Quiz (advanced)\n",
        "\n",
        "For this exercise, we want to help an 8-year old student to work his multiplication tables.\n",
        "\n",
        "The program should be placed in a single cell, and do the following:\n",
        "\n",
        "    Start with a score of 0, a number of rounds of 0\n",
        "    While the user does not input \"STOP\"\n",
        "        Draw 2 random numbers\n",
        "        Ask the user to input the result of the multiplication of the 2 random numbers\n",
        "        If the result is correct, then increase the score\n",
        "        Increase the number of rounds\n",
        "    Print the final score\n",
        "\n",
        " \n",
        "\n",
        "You are going to use the following elements from the class:\n",
        "* variables\n",
        "* ```input```\n",
        "* ```print```\n",
        "* comparisons\n",
        "* ```if```\n",
        "* ```while```\n",
        "* ```break```\n",
        "\n"
      ]
    },
    {
      "cell_type": "code",
      "metadata": {
        "id": "mZHjN7pGLUOG",
        "colab": {
          "base_uri": "https://localhost:8080/",
          "height": 34
        },
        "outputId": "3315a111-26e5-4946-94a2-47ead9d0ace7"
      },
      "source": [
        "# This is how to draw a random number\n",
        "\n",
        "import random                  # importing a module (Week 4)\n",
        "print(random.randint(1, 20))   # Using a function from a module"
      ],
      "execution_count": null,
      "outputs": [
        {
          "output_type": "stream",
          "text": [
            "17\n"
          ],
          "name": "stdout"
        }
      ]
    },
    {
      "cell_type": "code",
      "metadata": {
        "id": "iaNZ4bveq28B"
      },
      "source": [
        "import random\n",
        "\n",
        "score = 0\n",
        "rounds = 0\n",
        "\n",
        "while ...:\n",
        "    n = random.randint(1, 10)\n",
        "    m = random.randint(1, 10)\n",
        "    user_input = ...\n",
        "    ... \n",
        "    ...\n",
        "\n",
        "print(\"Score: \", score, \" / \", rounds)"
      ],
      "execution_count": null,
      "outputs": []
    }
  ]
}