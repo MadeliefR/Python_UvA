{
  "cells": [
    {
      "cell_type": "markdown",
      "metadata": {
        "colab_type": "text",
        "id": "view-in-github"
      },
      "source": [
        "<a href=\"https://colab.research.google.com/github/MadeliefR/Python_UvA/blob/main/PWP_01_EXERCISES.ipynb\" target=\"_parent\"><img src=\"https://colab.research.google.com/assets/colab-badge.svg\" alt=\"Open In Colab\"/></a>"
      ]
    },
    {
      "cell_type": "code",
      "execution_count": null,
      "metadata": {
        "id": "hRlC68cyWKfW"
      },
      "outputs": [],
      "source": []
    },
    {
      "cell_type": "code",
      "execution_count": null,
      "metadata": {
        "id": "TiyNRxG4WKcG"
      },
      "outputs": [],
      "source": []
    },
    {
      "cell_type": "code",
      "execution_count": null,
      "metadata": {
        "id": "_dybMOxdWKZf"
      },
      "outputs": [],
      "source": []
    },
    {
      "cell_type": "code",
      "execution_count": null,
      "metadata": {
        "id": "vKp5cF8yWKOd"
      },
      "outputs": [],
      "source": []
    },
    {
      "cell_type": "markdown",
      "metadata": {
        "id": "P6jWDNvdxi24"
      },
      "source": [
        "# WEEK 1 - Exercises"
      ]
    },
    {
      "cell_type": "markdown",
      "metadata": {
        "id": "nHPSES2orI-4"
      },
      "source": [
        "# How much water do I use for shower?\n",
        "Each minute under the shower uses approximatly 8 liters of water.\n",
        "Write a program that does the following:\n",
        "\n",
        "1. The usual shower lasts 10 minutes ```duration = ...```\n",
        "1. Compute how much water is used by this shower ```water = duration +*-/...```\n",
        "1. Display to the user ```print(...)```\n",
        "\n",
        "\n",
        "---\n",
        "\n",
        "Improve your program by asking the user how long do they stay under the shower:\n",
        "1. Ask the user ```input(...)```\n",
        "1. Convert the answer into a number ```int(...)```\n",
        "1. Compute the water usage \n",
        "1. Display to the user ```print(...)```\n"
      ]
    },
    {
      "cell_type": "code",
      "execution_count": 1,
      "metadata": {
        "id": "r3UrgmAlq09d"
      },
      "outputs": [
        {
          "name": "stdout",
          "output_type": "stream",
          "text": [
            "80\n"
          ]
        }
      ],
      "source": [
        "duration = 10\n",
        "water = duration * 8\n",
        "print(water)"
      ]
    },
    {
      "cell_type": "code",
      "execution_count": 1,
      "metadata": {
        "id": "IQX2PKLjhZIh"
      },
      "outputs": [
        {
          "name": "stdout",
          "output_type": "stream",
          "text": [
            "80\n"
          ]
        }
      ],
      "source": [
        "duration_input = input(\"How many minutes do you shower?: \")\n",
        "duration_int = int(duration_input)\n",
        "water = duration_int * 8\n",
        "print(water)"
      ]
    },
    {
      "cell_type": "markdown",
      "metadata": {
        "id": "jQk9rM0or5G2"
      },
      "source": [
        "# What is the NPV of my next project?\n",
        "We figure a project cash-flows like this:\n",
        "* Year 1: spend $C$ to implement\n",
        "* Year 2 until infinite: positive cash-flows of $X_0$ with a yearly growth rate $x$\n",
        "* Discount rate: $r$\n",
        "\n",
        "Based on this, we know:\n",
        "$\n",
        "\\begin{align}\n",
        "NPV=\\frac{X_0}{r-x} - C\n",
        "\\end{align}\n",
        "$\n",
        "\n",
        "Create a program that gives you the NPV of the project:\n",
        "1. Ask the user for the original spending $C$, the expected cash-flow $X_0$, the yearly growth $x$, the discount rate $r$\n",
        "2. Compute the NPV\n",
        "3. Display to the user\n",
        "\n",
        "Try it with the values:\n",
        "* `C = 100000`\n",
        "* `X0 = 20000`\n",
        "* `x = 0.02` (ie 2%)\n",
        "* `c = 0.045` (ie 4.5%)\n",
        "* The NPV is then `700000` (or `700000.0000000001`)"
      ]
    },
    {
      "cell_type": "code",
      "execution_count": 7,
      "metadata": {
        "id": "IkFCjoB9rIuy"
      },
      "outputs": [
        {
          "name": "stdout",
          "output_type": "stream",
          "text": [
            "700000.0000000001\n"
          ]
        }
      ],
      "source": [
        "C = input(\"what is the original spending in euro's? (only submit a number)\")\n",
        "XO = input(\"what is the expected cash-flows in euro's? (only submit a number)\")\n",
        "x = input(\"what is the yearly growth? (only submit decimal number)\")\n",
        "r = input(\"What is the discount rate? (only submit a decimal number)\")\n",
        "\n",
        "\n",
        "\n",
        "list_= [C,XO,x,r]\n",
        "b = list([float(i) for i in list_])\n",
        "\n",
        "NPV = ( b[1] / (b[3]-b[2])) - b[0]\n",
        "print(NPV)"
      ]
    },
    {
      "cell_type": "code",
      "execution_count": 22,
      "metadata": {},
      "outputs": [
        {
          "name": "stdout",
          "output_type": "stream",
          "text": [
            "700000.0000000001\n"
          ]
        }
      ],
      "source": [
        "c = float(input(\"what is the original spending in euro's? (only submit a number)\"))\n",
        "xo = float(input(\"what is the expected cash-flows in euro's? (only submit a number)\"))\n",
        "x = float(input(\"what is the yearly growth? (only submit decimal number)\"))\n",
        "r = float(input(\"What is the discount rate? (only submit a decimal number)\"))\n",
        "\n",
        "\n",
        "NPV = ( xo / (r-x)) - c\n",
        "print(NPV)"
      ]
    },
    {
      "cell_type": "markdown",
      "metadata": {
        "id": "-egMLkfFu390"
      },
      "source": [
        "# Mortgage Repayment\n",
        "\n",
        "The scenario is the following:\n",
        "* Loan of principal amount `P`\n",
        "* Monthly interest rate `r`\n",
        "* Number of months `n`\n",
        "\n",
        "To repay a loan of the amount `P` in `n` months at the monthly rate of `r`, you have to repay each month:\n",
        "\n",
        "$ \\textrm{M} = \\textrm{P} * \\textrm{r} * \\frac{(1+\\textrm{r})^n}{(1+\\textrm{r})^n-1} $\n",
        "\n",
        "Write the following program:\n",
        "* Ask the user for the following inputs:\n",
        " * Principal amount\n",
        " * Yearly Interest Rate (APR) as a Percentage\n",
        " * Duration in years\n",
        "* Transform these numbers into\n",
        "  * Monthly interest rate (12% yearly = 1% monthly = 0.01 rate)\n",
        "  * Number of months (5 years = 60 months)\n",
        "* Compute and display the monthly payment\n",
        "* Try it for the values:\n",
        "  * P = `200000`\n",
        "  * Yearly Interest Rate: `6.5%`\n",
        "  * Duration: `30` years\n",
        "  * Monthly Repayment: `1264.13064....` = `1264.14`"
      ]
    },
    {
      "cell_type": "code",
      "execution_count": 20,
      "metadata": {
        "id": "M66D8To9u4Mc"
      },
      "outputs": [
        {
          "name": "stdout",
          "output_type": "stream",
          "text": [
            "1264.1360469859305\n"
          ]
        }
      ],
      "source": [
        "import re\n",
        "\n",
        "p = input(\"what is the rincipal amount? \")\n",
        "yearly_r = input(\"what is the yearly interest rate in percentages? \")\n",
        "years_n = input(\"what is the duration in years?\")\n",
        "\n",
        "r = re.sub('%','',yearly_r)\n",
        "\n",
        "list_= [p,r,years_n]\n",
        "b = list([float(i) for i in list_])\n",
        "r = (b[1] / 12) / 100\n",
        "n = b[2] * 12\n",
        "\n",
        "\n",
        "\n",
        "montly_repayment = (b[0]*r*(((1+r)**n)/(((1+r)**n)-1)))\n",
        "print(montly_repayment)\n"
      ]
    },
    {
      "cell_type": "code",
      "execution_count": 25,
      "metadata": {},
      "outputs": [
        {
          "name": "stdout",
          "output_type": "stream",
          "text": [
            "1264.1360469859305\n"
          ]
        }
      ],
      "source": [
        "import re\n",
        "\n",
        "p = float(input(\"what is the rincipal amount? \"))\n",
        "yearly_r = float(re.sub('%','', input(\"what is the yearly interest rate in percentages? \")))\n",
        "years_n = float(input(\"what is the duration in years?\"))\n",
        "\n",
        "r= (yearly_r / 12)/100\n",
        "n= years_n *12\n",
        "\n",
        "montly_repayment = (p*r*(((1+r)**n)/(((1+r)**n)-1)))\n",
        "print(montly_repayment)\n"
      ]
    }
  ],
  "metadata": {
    "colab": {
      "include_colab_link": true,
      "provenance": []
    },
    "kernelspec": {
      "display_name": "Python 3",
      "language": "python",
      "name": "python3"
    },
    "language_info": {
      "codemirror_mode": {
        "name": "ipython",
        "version": 3
      },
      "file_extension": ".py",
      "mimetype": "text/x-python",
      "name": "python",
      "nbconvert_exporter": "python",
      "pygments_lexer": "ipython3",
      "version": "3.10.6"
    },
    "vscode": {
      "interpreter": {
        "hash": "5e6f471c051a9b09d433c5c64cf49b002aa5790b30a26b0595d90c268901af7b"
      }
    }
  },
  "nbformat": 4,
  "nbformat_minor": 0
}
